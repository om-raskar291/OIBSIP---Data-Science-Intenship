{
 "cells": [
  {
   "cell_type": "markdown",
   "id": "f28b7638",
   "metadata": {},
   "source": [
    "# Task 2: Unemployment Analysis!"
   ]
  },
  {
   "cell_type": "markdown",
   "id": "436fd0c1",
   "metadata": {},
   "source": [
    "**Importing Libraries**"
   ]
  },
  {
   "cell_type": "code",
   "execution_count": 2,
   "id": "05d9db12",
   "metadata": {},
   "outputs": [
    {
     "ename": "ModuleNotFoundError",
     "evalue": "No module named 'pyplot'",
     "output_type": "error",
     "traceback": [
      "\u001b[1;31m---------------------------------------------------------------------------\u001b[0m",
      "\u001b[1;31mModuleNotFoundError\u001b[0m                       Traceback (most recent call last)",
      "Cell \u001b[1;32mIn[2], line 4\u001b[0m\n\u001b[0;32m      2\u001b[0m \u001b[38;5;28;01mimport\u001b[39;00m \u001b[38;5;21;01mpandas\u001b[39;00m \u001b[38;5;28;01mas\u001b[39;00m \u001b[38;5;21;01mpd\u001b[39;00m\n\u001b[0;32m      3\u001b[0m \u001b[38;5;28;01mimport\u001b[39;00m \u001b[38;5;21;01mmatplotlib\u001b[39;00m\u001b[38;5;21;01m.\u001b[39;00m\u001b[38;5;21;01mpyplot\u001b[39;00m \u001b[38;5;28;01mas\u001b[39;00m \u001b[38;5;21;01mplt\u001b[39;00m\n\u001b[1;32m----> 4\u001b[0m \u001b[38;5;28;01mimport\u001b[39;00m \u001b[38;5;21;01mpyplot\u001b[39;00m\u001b[38;5;21;01m.\u001b[39;00m\u001b[38;5;21;01mexpress\u001b[39;00m \u001b[38;5;28;01mas\u001b[39;00m \u001b[38;5;21;01mpx\u001b[39;00m\n\u001b[0;32m      5\u001b[0m get_ipython()\u001b[38;5;241m.\u001b[39mrun_line_magic(\u001b[38;5;124m'\u001b[39m\u001b[38;5;124mmatplotlib\u001b[39m\u001b[38;5;124m'\u001b[39m, \u001b[38;5;124m'\u001b[39m\u001b[38;5;124minline\u001b[39m\u001b[38;5;124m'\u001b[39m)\n\u001b[0;32m      6\u001b[0m \u001b[38;5;28;01mimport\u001b[39;00m \u001b[38;5;21;01mseaborn\u001b[39;00m \u001b[38;5;28;01mas\u001b[39;00m \u001b[38;5;21;01msns\u001b[39;00m\n",
      "\u001b[1;31mModuleNotFoundError\u001b[0m: No module named 'pyplot'"
     ]
    }
   ],
   "source": [
    "import numpy as np\n",
    "import pandas as pd\n",
    "import matplotlib.pyplot as plt\n",
    "import pyplot.express as px\n",
    "%matplotlib inline\n",
    "import seaborn as sns"
   ]
  },
  {
   "cell_type": "code",
   "execution_count": null,
   "id": "e23c5752",
   "metadata": {},
   "outputs": [],
   "source": [
    "import warnings\n",
    "warnings.filterwarnings(\"ignore\")"
   ]
  },
  {
   "cell_type": "markdown",
   "id": "0da38ba9",
   "metadata": {},
   "source": [
    "**Importing data**"
   ]
  },
  {
   "cell_type": "code",
   "execution_count": null,
   "id": "ec737f44",
   "metadata": {},
   "outputs": [],
   "source": [
    "data = pd.read_csv(\"Unemployment in India.csv\");"
   ]
  },
  {
   "cell_type": "code",
   "execution_count": null,
   "id": "a8fffce0",
   "metadata": {},
   "outputs": [],
   "source": [
    "data"
   ]
  },
  {
   "cell_type": "code",
   "execution_count": null,
   "id": "d18ebc6a",
   "metadata": {},
   "outputs": [],
   "source": [
    "data.shape"
   ]
  },
  {
   "cell_type": "markdown",
   "id": "a380a8df",
   "metadata": {},
   "source": [
    "**Check if their is any Null values present in the data!**"
   ]
  },
  {
   "cell_type": "code",
   "execution_count": null,
   "id": "75da7612",
   "metadata": {},
   "outputs": [],
   "source": [
    "data.isnull().sum()"
   ]
  },
  {
   "cell_type": "code",
   "execution_count": null,
   "id": "0db23d1d",
   "metadata": {},
   "outputs": [],
   "source": [
    "data.dropna(inplace=True)"
   ]
  },
  {
   "cell_type": "code",
   "execution_count": null,
   "id": "94b77ea6",
   "metadata": {},
   "outputs": [],
   "source": [
    "data.isnull().sum()"
   ]
  },
  {
   "cell_type": "markdown",
   "id": "f831264d",
   "metadata": {},
   "source": [
    "**We have dropped the null values**"
   ]
  },
  {
   "cell_type": "code",
   "execution_count": null,
   "id": "1fac5177",
   "metadata": {},
   "outputs": [],
   "source": [
    "data.shape"
   ]
  },
  {
   "cell_type": "code",
   "execution_count": null,
   "id": "ba43fae0",
   "metadata": {},
   "outputs": [],
   "source": [
    "data.describe()"
   ]
  },
  {
   "cell_type": "code",
   "execution_count": null,
   "id": "c04e7040",
   "metadata": {},
   "outputs": [],
   "source": [
    "data.describe().round()"
   ]
  },
  {
   "cell_type": "code",
   "execution_count": null,
   "id": "7dab3c79",
   "metadata": {},
   "outputs": [],
   "source": [
    "data.corr()"
   ]
  },
  {
   "cell_type": "code",
   "execution_count": null,
   "id": "4e1444c5",
   "metadata": {},
   "outputs": [],
   "source": [
    "data.info()"
   ]
  },
  {
   "cell_type": "markdown",
   "id": "207a9ba7",
   "metadata": {},
   "source": [
    "**We can observe that their are three columns with float datatype and four columns with object datatype!**"
   ]
  },
  {
   "cell_type": "markdown",
   "id": "f279d4d4",
   "metadata": {},
   "source": [
    "**Data Wrangling**"
   ]
  },
  {
   "cell_type": "code",
   "execution_count": null,
   "id": "36aa0de1",
   "metadata": {},
   "outputs": [],
   "source": [
    "data.sample(10)"
   ]
  },
  {
   "cell_type": "markdown",
   "id": "db3c3888",
   "metadata": {},
   "source": [
    "**#Converting the date into datetime format**"
   ]
  },
  {
   "cell_type": "code",
   "execution_count": null,
   "id": "250fa6f8",
   "metadata": {},
   "outputs": [],
   "source": [
    "data['Date']=pd.to_datetime(data[' Date'])"
   ]
  },
  {
   "cell_type": "code",
   "execution_count": null,
   "id": "cd26034a",
   "metadata": {},
   "outputs": [],
   "source": [
    "data"
   ]
  },
  {
   "cell_type": "markdown",
   "id": "f884bd58",
   "metadata": {},
   "source": [
    "**Extracting the year and month from the date**"
   ]
  },
  {
   "cell_type": "code",
   "execution_count": null,
   "id": "9421f795",
   "metadata": {},
   "outputs": [],
   "source": [
    "year=[i.strftime('%Y') for i in list(data['Date'])]\n",
    "month=[i.strftime('%B') for i in list(data['Date'])]"
   ]
  },
  {
   "cell_type": "code",
   "execution_count": null,
   "id": "b3913cca",
   "metadata": {},
   "outputs": [],
   "source": [
    "data['Year']=year\n",
    "data['Month']=month"
   ]
  },
  {
   "cell_type": "code",
   "execution_count": null,
   "id": "748fb969",
   "metadata": {},
   "outputs": [],
   "source": [
    "data"
   ]
  },
  {
   "cell_type": "markdown",
   "id": "cc4b12e4",
   "metadata": {},
   "source": [
    "**EDA**"
   ]
  },
  {
   "cell_type": "code",
   "execution_count": null,
   "id": "02bd4b04",
   "metadata": {},
   "outputs": [],
   "source": [
    "data.columns"
   ]
  },
  {
   "cell_type": "code",
   "execution_count": null,
   "id": "f6e471e5",
   "metadata": {},
   "outputs": [],
   "source": [
    "plt.figure(figsize=(19,14))\n",
    "sns.barplot(x=data[\" Estimated Unemployment Rate (%)\"], y=data[\" Estimated Labour Participation Rate (%)\"]);"
   ]
  },
  {
   "cell_type": "markdown",
   "id": "1ed3223a",
   "metadata": {},
   "source": [
    "**Area wise unemployment analysis**"
   ]
  },
  {
   "cell_type": "code",
   "execution_count": null,
   "id": "359dd3f0",
   "metadata": {},
   "outputs": [],
   "source": [
    "area_unemploy=data.groupby(['Area'],as_index=False)[' Estimated Unemployment Rate (%)'].mean()\n",
    "area_unemploy_plot=sns.barplot(data=area_unemploy,x='Area',y=' Estimated Unemployment Rate (%)')\n",
    "for bar in area_unemploy_plot.patches:\n",
    "    area_unemploy_plot.annotate(format(bar.get_height(), '.2f'),\n",
    "                   (bar.get_x() + bar.get_width() / 2,\n",
    "                    bar.get_height()), ha='center', va='center',\n",
    "                   size=12, xytext=(0, 8),\n",
    "                   textcoords='offset points')"
   ]
  },
  {
   "cell_type": "markdown",
   "id": "255758e2",
   "metadata": {},
   "source": [
    "**We can conclude that Urban is having 13.17 of unemployment and Rural is having 10.32 of unemployment**"
   ]
  },
  {
   "cell_type": "markdown",
   "id": "770fbbd9",
   "metadata": {},
   "source": [
    "**Which state has the most data**"
   ]
  },
  {
   "cell_type": "code",
   "execution_count": null,
   "id": "48c7f8a2",
   "metadata": {},
   "outputs": [],
   "source": [
    "count1 = data.Region.value_counts()\n",
    "\n",
    "plt.figure(figsize=(13,10))\n",
    "sns.barplot(count1.index, count1.values, alpha=0.8)\n",
    "plt.ylabel('Number of Occurrences', fontsize=12)\n",
    "plt.xlabel('Region', fontsize=13)\n",
    "plt.title('Count the Region', fontsize=16)\n",
    "plt.xticks(rotation='vertical')\n",
    "plt.show()"
   ]
  },
  {
   "cell_type": "markdown",
   "id": "dec4ddb5",
   "metadata": {},
   "source": [
    "**Take the mean of rate state by state**"
   ]
  },
  {
   "cell_type": "code",
   "execution_count": null,
   "id": "9fa8162e",
   "metadata": {},
   "outputs": [],
   "source": [
    "grouped = data.groupby([\"Region\"])[\" Estimated Unemployment Rate (%)\"].aggregate(\"mean\").reset_index()\n",
    "\n",
    "plt.figure(figsize=(13,10))\n",
    "sns.pointplot(grouped['Region'].values, grouped[' Estimated Unemployment Rate (%)'].values, alpha=0.8)\n",
    "plt.ylabel('Mean rate', fontsize=13)\n",
    "plt.xlabel('Region', fontsize=13)\n",
    "plt.title(\"Average of mean\", fontsize=16)\n",
    "plt.xticks(rotation='vertical')\n",
    "plt.show()"
   ]
  },
  {
   "cell_type": "code",
   "execution_count": null,
   "id": "c4a04f01",
   "metadata": {},
   "outputs": [],
   "source": [
    "unemploment = data[[\"Region\", \" Estimated Unemployment Rate (%)\"]]\n",
    "fig = px.sunburst(unemploment, path=[\"Region\"], \n",
    "                     values=\" Estimated Unemployment Rate (%)\", \n",
    "                     width=700, height=700, color_continuous_scale=\"RdY1Gn\", \n",
    "                     title=\"Unemployment Rate in India\")\n",
    "\n",
    "fig.show()"
   ]
  },
  {
   "cell_type": "markdown",
   "id": "2104fc7c",
   "metadata": {},
   "source": [
    "**Unemployment rate is highest in Uttar Pradesh over 27% while lowest in Meghalayas at around 4% !**"
   ]
  },
  {
   "cell_type": "code",
   "execution_count": null,
   "id": "5a51dcda",
   "metadata": {},
   "outputs": [],
   "source": [
    "area_emp=data.groupby(['Area'],as_index=False)[' Estimated Employed'].mean()\n",
    "area_emp_plot=sns.barplot(data=area_emp,x='Area',y=' Estimated Employed')\n",
    "for bar in area_emp_plot.patches:\n",
    "    area_emp_plot.annotate(format(bar.get_height(), '.2f'),\n",
    "                   (bar.get_x() + bar.get_width() / 2,\n",
    "                    bar.get_height()), ha='center', va='center',\n",
    "                   size=12, xytext=(0, 8),\n",
    "                   textcoords='offset points')"
   ]
  },
  {
   "cell_type": "code",
   "execution_count": null,
   "id": "e594b4ea",
   "metadata": {},
   "outputs": [],
   "source": [
    "plot=sns.barplot(x='Year',y=' Estimated Unemployment Rate (%)',data=data.groupby('Year',as_index=False)[' Estimated Unemployment Rate (%)'].mean())\n",
    "\n",
    "for bar in plot.patches:\n",
    " \n",
    "  plot.annotate(format(bar.get_height(), '.2f'),\n",
    "                   (bar.get_x() + bar.get_width() / 2,\n",
    "                    bar.get_height()), ha='center', va='center',\n",
    "                   size=15, xytext=(0, 8),\n",
    "                   textcoords='offset points')"
   ]
  },
  {
   "cell_type": "markdown",
   "id": "8cb3e999",
   "metadata": {},
   "source": [
    "**As we can see that the rate from 2019 increased drastically from 9.40 to around 15.10 in just a year!**"
   ]
  },
  {
   "cell_type": "markdown",
   "id": "b9378f98",
   "metadata": {},
   "source": [
    "## Conclusions:"
   ]
  },
  {
   "cell_type": "raw",
   "id": "ea0b97de",
   "metadata": {},
   "source": [
    "~~ We can conclude that Urban is having 13.17 of unemployment and Rural is having 10.32 of unemployment\n",
    "~~ Unemployment rate is highest in Tripura over 27% while lowest in Meghalayas at around 4% !\n",
    "~~ As we can see that the rate from 2019 increased drastically from 9.40 to around 15.10 in just a year!"
   ]
  },
  {
   "cell_type": "code",
   "execution_count": null,
   "id": "987053cf",
   "metadata": {},
   "outputs": [],
   "source": []
  }
 ],
 "metadata": {
  "kernelspec": {
   "display_name": "Python 3 (ipykernel)",
   "language": "python",
   "name": "python3"
  },
  "language_info": {
   "codemirror_mode": {
    "name": "ipython",
    "version": 3
   },
   "file_extension": ".py",
   "mimetype": "text/x-python",
   "name": "python",
   "nbconvert_exporter": "python",
   "pygments_lexer": "ipython3",
   "version": "3.11.3"
  }
 },
 "nbformat": 4,
 "nbformat_minor": 5
}
