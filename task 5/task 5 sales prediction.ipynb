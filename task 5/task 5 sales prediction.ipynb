{
 "cells": [
  {
   "cell_type": "markdown",
   "id": "0ddcb02b",
   "metadata": {},
   "source": [
    "# Task 5: Sales Prediction!"
   ]
  },
  {
   "cell_type": "code",
   "execution_count": 1,
   "id": "77e49eac-719f-44ff-a279-5a4fe867a1db",
   "metadata": {},
   "outputs": [],
   "source": [
    "#importing necessary libraries \n",
    "import numpy as np\n",
    "import pandas as pd\n",
    "import warnings\n",
    "warnings.filterwarnings('ignore')\n",
    "#importing libraries for visualisation\n",
    "import matplotlib.pyplot as plt\n",
    "from matplotlib import style\n",
    "import seaborn as sns"
   ]
  },
  {
   "cell_type": "code",
   "execution_count": 2,
   "id": "a936f60e-5305-4579-a824-3a658e9eb3d7",
   "metadata": {},
   "outputs": [],
   "source": [
    "#importing Data\n",
    "data_frame = pd.read_csv('Advertising.csv', index_col = 0)"
   ]
  },
  {
   "cell_type": "markdown",
   "id": "ba5c72ba-024b-4393-89e2-ae91ef8f8492",
   "metadata": {},
   "source": [
    "####  Performing descriptive analysis. Understand the variables and their corresponding values. "
   ]
  },
  {
   "cell_type": "code",
   "execution_count": 3,
   "id": "8726857a-5d44-4aa9-93f0-9e98a86d2b5b",
   "metadata": {},
   "outputs": [
    {
     "data": {
      "text/plain": [
       "(200, 4)"
      ]
     },
     "execution_count": 3,
     "metadata": {},
     "output_type": "execute_result"
    }
   ],
   "source": [
    "# Understanding the dimensions of data\n",
    "data_frame.shape"
   ]
  },
  {
   "cell_type": "code",
   "execution_count": 4,
   "id": "ceb01897-2d1f-4eea-a0ac-0b32a20451fd",
   "metadata": {},
   "outputs": [
    {
     "name": "stdout",
     "output_type": "stream",
     "text": [
      "<class 'pandas.core.frame.DataFrame'>\n",
      "Int64Index: 200 entries, 1 to 200\n",
      "Data columns (total 4 columns):\n",
      " #   Column     Non-Null Count  Dtype  \n",
      "---  ------     --------------  -----  \n",
      " 0   TV         200 non-null    float64\n",
      " 1   Radio      200 non-null    float64\n",
      " 2   Newspaper  200 non-null    float64\n",
      " 3   Sales      200 non-null    float64\n",
      "dtypes: float64(4)\n",
      "memory usage: 7.8 KB\n"
     ]
    }
   ],
   "source": [
    "# Understanding the Data Variables\n",
    "data_frame.info()"
   ]
  },
  {
   "cell_type": "code",
   "execution_count": 5,
   "id": "4b377503-f89e-4303-a743-d2b08ea5b506",
   "metadata": {},
   "outputs": [
    {
     "data": {
      "text/plain": [
       "Index(['TV', 'Radio', 'Newspaper', 'Sales'], dtype='object')"
      ]
     },
     "execution_count": 5,
     "metadata": {},
     "output_type": "execute_result"
    }
   ],
   "source": [
    "data_frame.columns"
   ]
  },
  {
   "cell_type": "markdown",
   "id": "631d6c42-c049-4724-8df9-338c41542896",
   "metadata": {},
   "source": [
    "##### * The company spent their budget for differnt products on 3 advertising medias such as TV, Radio, Newspaper and the corresponding sales for each product"
   ]
  },
  {
   "cell_type": "code",
   "execution_count": 6,
   "id": "87001251-464c-45d1-b3c6-358eb03c389c",
   "metadata": {},
   "outputs": [
    {
     "data": {
      "text/html": [
       "<div>\n",
       "<style scoped>\n",
       "    .dataframe tbody tr th:only-of-type {\n",
       "        vertical-align: middle;\n",
       "    }\n",
       "\n",
       "    .dataframe tbody tr th {\n",
       "        vertical-align: top;\n",
       "    }\n",
       "\n",
       "    .dataframe thead th {\n",
       "        text-align: right;\n",
       "    }\n",
       "</style>\n",
       "<table border=\"1\" class=\"dataframe\">\n",
       "  <thead>\n",
       "    <tr style=\"text-align: right;\">\n",
       "      <th></th>\n",
       "      <th>TV</th>\n",
       "      <th>Radio</th>\n",
       "      <th>Newspaper</th>\n",
       "      <th>Sales</th>\n",
       "    </tr>\n",
       "  </thead>\n",
       "  <tbody>\n",
       "    <tr>\n",
       "      <th>1</th>\n",
       "      <td>230.1</td>\n",
       "      <td>37.8</td>\n",
       "      <td>69.2</td>\n",
       "      <td>22.1</td>\n",
       "    </tr>\n",
       "    <tr>\n",
       "      <th>2</th>\n",
       "      <td>44.5</td>\n",
       "      <td>39.3</td>\n",
       "      <td>45.1</td>\n",
       "      <td>10.4</td>\n",
       "    </tr>\n",
       "    <tr>\n",
       "      <th>3</th>\n",
       "      <td>17.2</td>\n",
       "      <td>45.9</td>\n",
       "      <td>69.3</td>\n",
       "      <td>9.3</td>\n",
       "    </tr>\n",
       "    <tr>\n",
       "      <th>4</th>\n",
       "      <td>151.5</td>\n",
       "      <td>41.3</td>\n",
       "      <td>58.5</td>\n",
       "      <td>18.5</td>\n",
       "    </tr>\n",
       "    <tr>\n",
       "      <th>5</th>\n",
       "      <td>180.8</td>\n",
       "      <td>10.8</td>\n",
       "      <td>58.4</td>\n",
       "      <td>12.9</td>\n",
       "    </tr>\n",
       "  </tbody>\n",
       "</table>\n",
       "</div>"
      ],
      "text/plain": [
       "      TV  Radio  Newspaper  Sales\n",
       "1  230.1   37.8       69.2   22.1\n",
       "2   44.5   39.3       45.1   10.4\n",
       "3   17.2   45.9       69.3    9.3\n",
       "4  151.5   41.3       58.5   18.5\n",
       "5  180.8   10.8       58.4   12.9"
      ]
     },
     "execution_count": 6,
     "metadata": {},
     "output_type": "execute_result"
    }
   ],
   "source": [
    "# Show the top 5 Rows of data\n",
    "data_frame.head()"
   ]
  },
  {
   "cell_type": "code",
   "execution_count": 7,
   "id": "c3e8110f-713d-4335-982e-c8f7b05bda16",
   "metadata": {},
   "outputs": [
    {
     "data": {
      "text/html": [
       "<div>\n",
       "<style scoped>\n",
       "    .dataframe tbody tr th:only-of-type {\n",
       "        vertical-align: middle;\n",
       "    }\n",
       "\n",
       "    .dataframe tbody tr th {\n",
       "        vertical-align: top;\n",
       "    }\n",
       "\n",
       "    .dataframe thead th {\n",
       "        text-align: right;\n",
       "    }\n",
       "</style>\n",
       "<table border=\"1\" class=\"dataframe\">\n",
       "  <thead>\n",
       "    <tr style=\"text-align: right;\">\n",
       "      <th></th>\n",
       "      <th>count</th>\n",
       "      <th>mean</th>\n",
       "      <th>std</th>\n",
       "      <th>min</th>\n",
       "      <th>25%</th>\n",
       "      <th>50%</th>\n",
       "      <th>75%</th>\n",
       "      <th>max</th>\n",
       "    </tr>\n",
       "  </thead>\n",
       "  <tbody>\n",
       "    <tr>\n",
       "      <th>TV</th>\n",
       "      <td>200.0</td>\n",
       "      <td>147.0425</td>\n",
       "      <td>85.854236</td>\n",
       "      <td>0.7</td>\n",
       "      <td>74.375</td>\n",
       "      <td>149.75</td>\n",
       "      <td>218.825</td>\n",
       "      <td>296.4</td>\n",
       "    </tr>\n",
       "    <tr>\n",
       "      <th>Radio</th>\n",
       "      <td>200.0</td>\n",
       "      <td>23.2640</td>\n",
       "      <td>14.846809</td>\n",
       "      <td>0.0</td>\n",
       "      <td>9.975</td>\n",
       "      <td>22.90</td>\n",
       "      <td>36.525</td>\n",
       "      <td>49.6</td>\n",
       "    </tr>\n",
       "    <tr>\n",
       "      <th>Newspaper</th>\n",
       "      <td>200.0</td>\n",
       "      <td>30.5540</td>\n",
       "      <td>21.778621</td>\n",
       "      <td>0.3</td>\n",
       "      <td>12.750</td>\n",
       "      <td>25.75</td>\n",
       "      <td>45.100</td>\n",
       "      <td>114.0</td>\n",
       "    </tr>\n",
       "    <tr>\n",
       "      <th>Sales</th>\n",
       "      <td>200.0</td>\n",
       "      <td>14.0225</td>\n",
       "      <td>5.217457</td>\n",
       "      <td>1.6</td>\n",
       "      <td>10.375</td>\n",
       "      <td>12.90</td>\n",
       "      <td>17.400</td>\n",
       "      <td>27.0</td>\n",
       "    </tr>\n",
       "  </tbody>\n",
       "</table>\n",
       "</div>"
      ],
      "text/plain": [
       "           count      mean        std  min     25%     50%      75%    max\n",
       "TV         200.0  147.0425  85.854236  0.7  74.375  149.75  218.825  296.4\n",
       "Radio      200.0   23.2640  14.846809  0.0   9.975   22.90   36.525   49.6\n",
       "Newspaper  200.0   30.5540  21.778621  0.3  12.750   25.75   45.100  114.0\n",
       "Sales      200.0   14.0225   5.217457  1.6  10.375   12.90   17.400   27.0"
      ]
     },
     "execution_count": 7,
     "metadata": {},
     "output_type": "execute_result"
    }
   ],
   "source": [
    "# Performing Descriptive Analysis\n",
    "data_frame.describe().T"
   ]
  },
  {
   "cell_type": "code",
   "execution_count": 8,
   "id": "db12256c-8aa1-4534-8167-2364d1a0e231",
   "metadata": {},
   "outputs": [
    {
     "data": {
      "text/plain": [
       "0"
      ]
     },
     "execution_count": 8,
     "metadata": {},
     "output_type": "execute_result"
    }
   ],
   "source": [
    "# Check for Duplicated Entries\n",
    "data_frame.duplicated().sum()"
   ]
  },
  {
   "cell_type": "markdown",
   "id": "d5280ed6-6663-4f5f-a1a3-7afd91bd4a04",
   "metadata": {},
   "source": [
    "#### Outlier Analysis "
   ]
  },
  {
   "cell_type": "code",
   "execution_count": 9,
   "id": "5c1e1dd6-42ab-46cd-9857-2fdd20c6b7e2",
   "metadata": {},
   "outputs": [
    {
     "data": {
      "image/png": "[encoded data removed]",
      "text/plain": [
       "<Figure size 432x288 with 1 Axes>"
      ]
     },
     "metadata": {
      "needs_background": "light"
     },
     "output_type": "display_data"
    }
   ],
   "source": [
    "fig,axs=plt.subplots(1,1)\n",
    "plt1=sns.boxplot(data_frame['TV'],ax=axs)"
   ]
  },
  {
   "cell_type": "code",
   "execution_count": 10,
   "id": "0671b84e-03c3-4aeb-ad2c-5ce0887c6348",
   "metadata": {},
   "outputs": [
    {
     "data": {
      "image/png": "[encoded data removed]",
      "text/plain": [
       "<Figure size 432x288 with 1 Axes>"
      ]
     },
     "metadata": {
      "needs_background": "light"
     },
     "output_type": "display_data"
    }
   ],
   "source": [
    "fig,axs=plt.subplots(1,1)\n",
    "plt1=sns.boxplot(data_frame['Radio'],ax=axs)"
   ]
  },
  {
   "cell_type": "code",
   "execution_count": 11,
   "id": "3978f0b7-a4f1-4fd3-b16b-3f8a2c467c5c",
   "metadata": {},
   "outputs": [
    {
     "data": {
      "image/png": "[encoded data removed]",
      "text/plain": [
       "<Figure size 432x288 with 1 Axes>"
      ]
     },
     "metadata": {
      "needs_background": "light"
     },
     "output_type": "display_data"
    }
   ],
   "source": [
    "fig,axs=plt.subplots(1,1)\n",
    "plt1=sns.boxplot(data_frame['Newspaper'],ax=axs)"
   ]
  },
  {
   "cell_type": "code",
   "execution_count": 12,
   "id": "c494c675-d550-451c-8d7c-9d7c8ef05ff8",
   "metadata": {},
   "outputs": [
    {
     "data": {
      "image/png": "[encoded data removed]",
      "text/plain": [
       "<Figure size 432x288 with 1 Axes>"
      ]
     },
     "metadata": {
      "needs_background": "light"
     },
     "output_type": "display_data"
    }
   ],
   "source": [
    "fig,axs=plt.subplots(1,1)\n",
    "plt1=sns.boxplot(data_frame['Sales'],ax=axs)"
   ]
  },
  {
   "cell_type": "markdown",
   "id": "2e6242bd-9283-4a78-888f-5d082a2166ec",
   "metadata": {},
   "source": [
    "#### Data Visualization"
   ]
  },
  {
   "cell_type": "markdown",
   "id": "c0d85fe8-48f2-4931-ac44-672062caf67a",
   "metadata": {},
   "source": [
    "###### *  Data Visualization helps to  show how the budget spent on each advertising media affect the sales of products"
   ]
  },
  {
   "cell_type": "code",
   "execution_count": 13,
   "id": "9d26829a-338e-4a61-b7c8-400783eebb6d",
   "metadata": {},
   "outputs": [
    {
     "data": {
      "text/plain": [
       "<AxesSubplot:xlabel='TV', ylabel='Sales'>"
      ]
     },
     "execution_count": 13,
     "metadata": {},
     "output_type": "execute_result"
    },
    {
     "data": {
      "image/png": "[encoded data removed]",
      "text/plain": [
       "<Figure size 432x288 with 1 Axes>"
      ]
     },
     "metadata": {
      "needs_background": "light"
     },
     "output_type": "display_data"
    }
   ],
   "source": [
    "#Scatter plot is used find the distribution of effects of each advertising media against Target Sales variable \n",
    "plt.figure(figsize=(6,4))\n",
    "sns.scatterplot(data=data_frame,x=data_frame['TV'],y=data_frame['Sales'])"
   ]
  },
  {
   "cell_type": "code",
   "execution_count": 14,
   "id": "b6b75ea4-011d-489c-98cb-b6ad66e82d05",
   "metadata": {},
   "outputs": [
    {
     "data": {
      "text/plain": [
       "<AxesSubplot:xlabel='Radio', ylabel='Sales'>"
      ]
     },
     "execution_count": 14,
     "metadata": {},
     "output_type": "execute_result"
    },
    {
     "data": {
      "image/png": "[encoded data removed]",
      "text/plain": [
       "<Figure size 432x288 with 1 Axes>"
      ]
     },
     "metadata": {
      "needs_background": "light"
     },
     "output_type": "display_data"
    }
   ],
   "source": [
    "plt.figure(figsize=(6,4))\n",
    "sns.scatterplot(data=data_frame,x=data_frame['Radio'],y=data_frame['Sales'])"
   ]
  },
  {
   "cell_type": "code",
   "execution_count": 15,
   "id": "94a86485-9b73-4cec-8c26-b47486e80e75",
   "metadata": {},
   "outputs": [
    {
     "data": {
      "text/plain": [
       "<AxesSubplot:xlabel='Newspaper', ylabel='Sales'>"
      ]
     },
     "execution_count": 15,
     "metadata": {},
     "output_type": "execute_result"
    },
    {
     "data": {
      "image/png": "[encoded data removed]",
      "text/plain": [
       "<Figure size 432x288 with 1 Axes>"
      ]
     },
     "metadata": {
      "needs_background": "light"
     },
     "output_type": "display_data"
    }
   ],
   "source": [
    "plt.figure(figsize=(6,4))\n",
    "sns.scatterplot(data=data_frame,x=data_frame['Newspaper'],y=data_frame['Sales'])"
   ]
  },
  {
   "cell_type": "markdown",
   "id": "277df475-eba7-4af3-884a-fd57fade7756",
   "metadata": {},
   "source": [
    "##### * It is seen that TV data set is more linear as compared to other 2 variables ."
   ]
  },
  {
   "cell_type": "markdown",
   "id": "951984fc-2544-46d8-bf96-981accbd3502",
   "metadata": {},
   "source": [
    "#### Heat Map"
   ]
  },
  {
   "cell_type": "code",
   "execution_count": 16,
   "id": "e6b95540-3e69-4e9e-98dd-b91cff460413",
   "metadata": {},
   "outputs": [],
   "source": [
    "# find correlation between variables in data set for plotting heatmap\n",
    "df_corr=data_frame.corr()"
   ]
  },
  {
   "cell_type": "code",
   "execution_count": 17,
   "id": "3de9ee61-df69-444c-84c7-a41f12c34252",
   "metadata": {},
   "outputs": [
    {
     "data": {
      "image/png": "[encoded data removed]",
      "text/plain": [
       "<Figure size 720x432 with 2 Axes>"
      ]
     },
     "metadata": {
      "needs_background": "light"
     },
     "output_type": "display_data"
    }
   ],
   "source": [
    "plt.figure(figsize=(10,6))\n",
    "sns.heatmap(df_corr,annot=True,cmap=\"BuPu\")\n",
    "plt.show()"
   ]
  },
  {
   "cell_type": "markdown",
   "id": "4623ac00-f0d2-4068-be39-feecd8431e2c",
   "metadata": {},
   "source": [
    "##### * We can see that TV variable has highest correlation value with the target Sales variable"
   ]
  },
  {
   "cell_type": "markdown",
   "id": "f607f321-5432-4b87-b257-6c79cbeddbc3",
   "metadata": {},
   "source": [
    "#### Building the Forecasting Model"
   ]
  },
  {
   "cell_type": "code",
   "execution_count": 18,
   "id": "68931be8-8c7f-4dfa-ba6a-4e99979317af",
   "metadata": {},
   "outputs": [],
   "source": [
    "from sklearn.model_selection import train_test_split"
   ]
  },
  {
   "cell_type": "code",
   "execution_count": 19,
   "id": "bc018773-7443-4286-bcb2-af19a2ae9099",
   "metadata": {},
   "outputs": [],
   "source": [
    "#First step in building the forecasting model is to identify the Feature(Input) variables and Target (Output) variable\n",
    "features = data_frame[['TV', 'Radio', 'Newspaper']]\n",
    "target = data_frame[['Sales']]"
   ]
  },
  {
   "cell_type": "markdown",
   "id": "be3f802c-bdce-4131-a7be-2d16fdc86e24",
   "metadata": {},
   "source": [
    "#####  * Splitting data for training and testing the model"
   ]
  },
  {
   "cell_type": "code",
   "execution_count": 20,
   "id": "2c023382-4dd5-4b23-b7f5-9dca4a8b84b8",
   "metadata": {},
   "outputs": [
    {
     "name": "stdout",
     "output_type": "stream",
     "text": [
      "Train set of features:  (160, 3)\n",
      "Test set of features:  (40, 3)\n",
      "Target for train:  (160, 1)\n",
      "Target for test:  (40, 1)\n"
     ]
    }
   ],
   "source": [
    "# Splitting data for training the model and testing the model\n",
    "# train size taken as 0.8\n",
    "X_train, X_test, y_train, y_test = train_test_split(features, target, train_size = .8)\n",
    "# Dimensions of Train and Test Data sets\n",
    "print('Train set of features: ', X_train.shape)\n",
    "print('Test set of features: ', X_test.shape)\n",
    "print('Target for train: ', y_train.shape)\n",
    "print('Target for test: ', y_test.shape)"
   ]
  },
  {
   "cell_type": "markdown",
   "id": "a8f04eaa-94e2-44f9-8b44-46eb89d7f45f",
   "metadata": {},
   "source": [
    "### Learn the model on train data"
   ]
  },
  {
   "cell_type": "code",
   "execution_count": 21,
   "id": "008a282a-6b73-4417-9d4a-48fcd5ba07ba",
   "metadata": {},
   "outputs": [],
   "source": [
    "from sklearn.linear_model import LinearRegression"
   ]
  },
  {
   "cell_type": "code",
   "execution_count": 22,
   "id": "9d0d3f82-f76d-434e-bcc8-fe36b225d89a",
   "metadata": {},
   "outputs": [],
   "source": [
    "# Linear Regression Model ( a Supervised Machine learning Algorithm)\n",
    "# LR models impose a linear function between predictor and response variables\n",
    "my_model = LinearRegression()"
   ]
  },
  {
   "cell_type": "code",
   "execution_count": 23,
   "id": "e7813ec3-5971-4486-bd24-17c23f9d7a48",
   "metadata": {},
   "outputs": [
    {
     "data": {
      "text/plain": [
       "LinearRegression()"
      ]
     },
     "execution_count": 23,
     "metadata": {},
     "output_type": "execute_result"
    }
   ],
   "source": [
    "# Fitting the model in train data set ie the Linear Regression Model learned from the on Train Data\n",
    "my_model.fit(X_train, y_train)"
   ]
  },
  {
   "cell_type": "markdown",
   "id": "548a71b9-8459-4d8d-a1a4-9d0f2eb5e1f9",
   "metadata": {},
   "source": [
    "#### Predicting the Sales"
   ]
  },
  {
   "cell_type": "code",
   "execution_count": 24,
   "id": "ad0d9910-2622-44dd-8009-ab5c7f0ae6db",
   "metadata": {},
   "outputs": [
    {
     "data": {
      "text/plain": [
       "array([[ 8.68836492],\n",
       "       [16.98238848],\n",
       "       [12.43771305],\n",
       "       [23.96824425],\n",
       "       [18.57218907],\n",
       "       [10.74129394],\n",
       "       [10.08878686],\n",
       "       [10.55180226],\n",
       "       [ 9.76557195],\n",
       "       [11.3958413 ],\n",
       "       [ 6.62170828],\n",
       "       [10.02119908],\n",
       "       [15.3460909 ],\n",
       "       [10.04962863],\n",
       "       [13.63990126],\n",
       "       [ 9.93555853],\n",
       "       [19.9357549 ],\n",
       "       [21.10230768],\n",
       "       [19.74969589],\n",
       "       [16.35192963],\n",
       "       [15.19106077],\n",
       "       [14.5566793 ],\n",
       "       [14.94194537],\n",
       "       [10.69147158],\n",
       "       [20.79221021],\n",
       "       [ 4.62604326],\n",
       "       [13.92886334],\n",
       "       [13.87292048],\n",
       "       [18.02442024],\n",
       "       [18.82728499],\n",
       "       [20.41821755],\n",
       "       [20.41284624],\n",
       "       [17.05690494],\n",
       "       [16.37285916],\n",
       "       [15.07017337],\n",
       "       [13.77385737],\n",
       "       [21.49874806],\n",
       "       [12.70552698],\n",
       "       [ 7.79895559],\n",
       "       [12.14617761]])"
      ]
     },
     "execution_count": 24,
     "metadata": {},
     "output_type": "execute_result"
    }
   ],
   "source": [
    "# Predicting the sales from Feature Test values\n",
    "y_pred = my_model.predict(X_test)\n",
    "y_pred"
   ]
  },
  {
   "cell_type": "markdown",
   "id": "ee8cb040-85e1-4780-9833-f42b744e23dd",
   "metadata": {},
   "source": [
    "#### Test the model"
   ]
  },
  {
   "cell_type": "code",
   "execution_count": 25,
   "id": "961de7a6-a934-41ca-b3c6-81b0245c5563",
   "metadata": {},
   "outputs": [],
   "source": [
    "from sklearn.metrics import mean_squared_error"
   ]
  },
  {
   "cell_type": "markdown",
   "id": "745a91cd-82b7-493c-bdc9-37c7cf7cd1f0",
   "metadata": {},
   "source": [
    "##### Mean Squared Error"
   ]
  },
  {
   "cell_type": "code",
   "execution_count": 26,
   "id": "583cf017-d93c-47ed-9bd9-bd0ce6fe3164",
   "metadata": {},
   "outputs": [
    {
     "data": {
      "text/plain": [
       "2.2045673951218223"
      ]
     },
     "execution_count": 26,
     "metadata": {},
     "output_type": "execute_result"
    }
   ],
   "source": [
    "# Compare the predicted values with the true values\n",
    "mean_squared_error(y_pred, y_test)"
   ]
  },
  {
   "cell_type": "markdown",
   "id": "16797cf7-1e02-4f31-b9d9-f724433fcbca",
   "metadata": {},
   "source": [
    "##### Coefficient of Determination or R Squared Value (r2)"
   ]
  },
  {
   "cell_type": "code",
   "execution_count": 27,
   "id": "7ad2c68e-5fa7-4303-bd1c-ee0211c16783",
   "metadata": {},
   "outputs": [],
   "source": [
    "from sklearn.metrics import r2_score"
   ]
  },
  {
   "cell_type": "code",
   "execution_count": 28,
   "id": "ec68ff13-e122-4112-88b1-f7e077dc4ee6",
   "metadata": {},
   "outputs": [
    {
     "data": {
      "text/plain": [
       "0.9168874796108186"
      ]
     },
     "execution_count": 28,
     "metadata": {},
     "output_type": "execute_result"
    }
   ],
   "source": [
    "# find Coefficient of Determination or R Squared Value (r2)\n",
    "r2_score(y_test,y_pred)"
   ]
  },
  {
   "cell_type": "code",
   "execution_count": null,
   "id": "481f7286",
   "metadata": {},
   "outputs": [],
   "source": []
  },
  {
   "cell_type": "code",
   "execution_count": null,
   "id": "1a04d9b0-8118-48a6-92b0-0f5999a099f9",
   "metadata": {},
   "outputs": [],
   "source": []
  }
 ],
 "metadata": {
  "kernelspec": {
   "display_name": "Python 3 (ipykernel)",
   "language": "python",
   "name": "python3"
  },
  "language_info": {
   "codemirror_mode": {
    "name": "ipython",
    "version": 3
   },
   "file_extension": ".py",
   "mimetype": "text/x-python",
   "name": "python",
   "nbconvert_exporter": "python",
   "pygments_lexer": "ipython3",
   "version": "3.11.3"
  }
 },
 "nbformat": 4,
 "nbformat_minor": 5
}
